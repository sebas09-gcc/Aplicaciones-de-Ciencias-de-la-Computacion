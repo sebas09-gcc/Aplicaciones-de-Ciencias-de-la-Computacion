{
 "cells": [
  {
   "cell_type": "markdown",
   "metadata": {},
   "source": [
    "# APLICACIONES EN CIENCIAS DE COMPUTACION"
   ]
  },
  {
   "cell_type": "markdown",
   "metadata": {},
   "source": [
    "## Laboratorio 4:  Búsqueda Local (Hill climbing, Simulated annealing y Beam search) \n",
    "Indicaciones previas:\n",
    "- Las respuestas deben tener un buen fundamento teórico, se realizarán descuentos en el puntaje a respuestas que no contesten a lo solicitado\n",
    "- Cualquier indicio de plagio resultará en la anulación de la prueba.\n",
    "\n",
    "La tarea de este laboratorio consiste en comparar métodos de busqueda local para la resolución de la N-Reinas.<br>Al final de este notebook se encuentran las preguntas que serán evaluadas en este laboratorio. \n",
    "\n",
    "**Usted deberá completar el código en las secciones indicadas con \"MODIFICAR\" y \"COMPLETAR\"**\n",
    "\n",
    "Ejemplo de representacion de estado (tablero nqueens):\n",
    "<img src=\"state_nqueens.png\">\n"
   ]
  },
  {
   "cell_type": "code",
   "execution_count": 16,
   "metadata": {},
   "outputs": [],
   "source": [
    "import numpy as np\n",
    "from collections import defaultdict\n",
    "from collections import Counter\n",
    "from random import randrange\n",
    "import random\n",
    "from time import time\n",
    "from random import shuffle, random, sample, randint, choice, uniform\n",
    "from copy import deepcopy\n",
    "import math\n",
    "from math import exp\n",
    "import sys"
   ]
  },
  {
   "cell_type": "markdown",
   "metadata": {},
   "source": [
    "### Clase <b>SearchProblem</b>\n",
    "\n",
    "Esta es una clase abstracta para definir problemas de busqueda. Se debe hacer subclases que implementen los metodos de las acciones, resultados, test de objetivo y el costo de camino. Entonces se puede instanciar las subclases y resolverlos con varias funciones de busqueda."
   ]
  },
  {
   "cell_type": "code",
   "execution_count": 17,
   "metadata": {},
   "outputs": [],
   "source": [
    "# ESTA CELDA NO NECESITA SER MODIFICADA  \n",
    "class SearchProblem:\n",
    "    def __init__(self, initial=None):\n",
    "        \"\"\"Initialize a search problem with a initial state\"\"\"\n",
    "        pass\n",
    "\n",
    "    def initial(self):\n",
    "        \"\"\"Return default initial state of the search problem\"\"\"\n",
    "        pass\n",
    "\n",
    "    def value(self, state):\n",
    "        \"\"\"Return the value of the state. This is the objective function to be optimized\"\"\"\n",
    "        pass\n",
    "\n",
    "    def neighborhood(self, state):\n",
    "        \"\"\"Return the neighboring states of the given state\"\"\"\n",
    "        pass\n",
    "\n",
    "    def random_neighbor(self, state):\n",
    "        \"\"\"Return a random neighbor of the neighborhood of the state (used in simulated annealing)\"\"\"\n",
    "        return choice(self.neighborhood(state))\n",
    "\n"
   ]
  },
  {
   "cell_type": "markdown",
   "metadata": {},
   "source": [
    "### Clase <b>NQueensSearch</b>\n",
    "\n",
    "La clase NQueenSearch implementa concretamente el problema del  tablero de las NQueens. Esta se representa mediante una tupla, en la cual se indica la posición de cada reina Q. Además, incluye el metodo value() para conocer la cantidad de pares de reinas atacadas mutuamente."
   ]
  },
  {
   "cell_type": "code",
   "execution_count": 18,
   "metadata": {},
   "outputs": [],
   "source": [
    "# ESTA CELDA NO NECESITA SER MODIFICADA\n",
    "class NQueensSearch(SearchProblem):\n",
    "    '''\n",
    "    State: (QueenCoords)\n",
    "    '''\n",
    "    def __init__(self, filename,N=8):\n",
    "        self.N = N\n",
    "        self.file = filename\n",
    "\n",
    "    def initial(self):\n",
    "        \"\"\" Lee el archivo para retornar una tupla con las posiciones de cada Reinas del tablero \"\"\"\n",
    "        fd=open(self.file,\"r+\")\n",
    "        puzzle=eval(fd.readline())\n",
    "        board=[]\n",
    "        for i in puzzle:\n",
    "            board.append(i)\n",
    "        return tuple(board)\n",
    "    \n",
    "    def value(self, state):\n",
    "        \"\"\" Retorna número de pares de Queens que se atacan mutuamente. Se recorre State: (QueenCoords) \n",
    "            para agregar el ataque de cada reina, tanto en sus diagonales como en su misma columna. Luego, \n",
    "            se recorre cada collection creado para incrementar el número de pares de reinas atacadas (clashes)\"\"\"\n",
    "        columnQ, diag1Q, diag2Q = [Counter() for i in range(3)]\n",
    "        #En este caso state = (6,0,6,5,4,6,5,0) \n",
    "        for row, col in enumerate(state):\n",
    "            columnQ[col] += 1       \n",
    "            diag1Q[row - col] += 1  \n",
    "            diag2Q[row + col] += 1\n",
    "        clashes = 0\n",
    "        for cnt in [columnQ, diag1Q, diag2Q]:\n",
    "            for key in cnt:\n",
    "                clashes += cnt[key] * (cnt[key] - 1) // 2\n",
    "        return clashes\n",
    "\n",
    "    def neighborhood(self, state):\n",
    "        \"\"\" Crea nuevos tableros vecinos, diferentes al original \"\"\"\n",
    "        neighborhood = []\n",
    "        for row in range(self.N):  # por cada fila\n",
    "            for col in range(self.N):  # por cada columna\n",
    "                # genera tablero vecino moviendo reyna de fila row a la columna col (siempre que no exita reyna en (row,col))    \n",
    "                if col != state[row]: \n",
    "                    neighbor = list(state)\n",
    "                    neighbor[row] = col\n",
    "                    neighborhood.append(tuple(neighbor))\n",
    "        return neighborhood\n",
    "\n",
    "    def random_neighbor(self, state):\n",
    "        \"\"\" Genera un tablero vecino de manera aleatoria, a partir del tablero original pasado (state)\"\"\"\n",
    "        row = randrange(self.N)  # escoge una fila aleatoriamente\n",
    "        col = choice( [i for i in range(self.N) if i!=state[row]] ) # escoge una columna aleatoria diferente de donde esta la reyna en esa fila\n",
    "        neighbor = list(state)\n",
    "        neighbor[row] = col\n",
    "        return tuple(neighbor)"
   ]
  },
  {
   "cell_type": "markdown",
   "metadata": {},
   "source": [
    "### Funciones utilitarias para manejar el tablero NQueens</b>\n",
    "Estas son funciones utilitarias para mostrar el tablero "
   ]
  },
  {
   "cell_type": "code",
   "execution_count": 19,
   "metadata": {},
   "outputs": [],
   "source": [
    "# ESTA CELDA NO NECESITA SER MODIFICADA\n",
    "n=8\n",
    "def make_board(result):\n",
    "    board = []\n",
    "    espacio =['_']*(n+1)\n",
    "    espacio[0]=' '\n",
    "    board.append(str().join(espacio))\n",
    "    for col in result:\n",
    "        line = ['*'] * (n+2)\n",
    "        line[0]='|'\n",
    "        line[col+1] = 'Q'\n",
    "        line[n+1]='|'\n",
    "        board.append(str().join(line))\n",
    "    board.append(str().join(espacio))\n",
    "    return board\n",
    "\n",
    "def printBoard(board):\n",
    "    charlist = list(map(list, board))\n",
    "    for line in charlist:\n",
    "        print(\" \".join(line))\n",
    "def ShowBoard(current):\n",
    "    \"\"\" Muestra la distribución de Queens(Q) en el tablero.   \"\"\"\n",
    "    board = make_board(current)\n",
    "    printBoard(board)"
   ]
  },
  {
   "cell_type": "markdown",
   "metadata": {},
   "source": [
    "## <b>Algoritmos de Búsqueda Local</b> "
   ]
  },
  {
   "cell_type": "markdown",
   "metadata": {},
   "source": [
    "### <b>Hill-climbing </b> \n",
    "\n",
    "Implementación del algoritmo para la resolución de NQueenSearchs"
   ]
  },
  {
   "cell_type": "code",
   "execution_count": 20,
   "metadata": {},
   "outputs": [],
   "source": [
    "################################## MODIFICAR ###################################\n",
    "# HACER LAS MODIFICACIONES NECESARIAS PARA QUE ENCUENTRE TABLERO DE MINIMO SCORE\n",
    "\n",
    "def hill_climbing(problem, maxIter=1000):\n",
    "    count=0  # contador de iteraciones desde que se encuentra el 1er tablero solucion \n",
    "    current = problem.initial()  # lee el archivo del tablero inicial\n",
    "    current_score = problem.value(current) # evalua tablero inicial\n",
    "    \n",
    "    # muestra tablero inicial\n",
    "    print('Hill Climbing intentará resolver el siguiente tablero NQueens:')\n",
    "    ShowBoard(current)  \n",
    "    print()\n",
    "        \n",
    "    start_time = time()  # inicia el contador de tiempo\n",
    "    t = 0\n",
    "    while (t < maxIter):\n",
    "        if (t % 100 == 0): \n",
    "            print('Iteration {},\\tCurrent score  = {}'.format(t, problem.value(current)))\n",
    "            \n",
    "        neighborhood = problem.neighborhood(current)\n",
    "        if not neighborhood:\n",
    "            break\n",
    "            \n",
    "        neighborhood_scores = []\n",
    "        for i in range(len(neighborhood)): # evalua cada tablero vecino\n",
    "            neighborhood_scores.append(problem.value(neighborhood[i]) )\n",
    "        index_best_neighbor = np.argmin(neighborhood_scores)\n",
    "        #ORIGINAL index_best_neighbor = np.argmax(neighborhood_scores)  obtiene el indice del mejor tablero\n",
    "       \n",
    "        if neighborhood_scores[index_best_neighbor] <= current_score:  # si el mejor vecino es mejor que el tablero current\n",
    "            #ORIGINAL ------>  if neighborhood_scores[index_best_neighbor] >= current_score: \n",
    "            current_score = neighborhood_scores[index_best_neighbor]\n",
    "            current = deepcopy(neighborhood[index_best_neighbor])\n",
    "        \n",
    "        if problem.value(current) == 0:  # si es tablero solucion\n",
    "            count += 1  # aumenta contador de tableros solucion encontrados\n",
    "        \n",
    "        t += 1\n",
    "    end_time = time()  # stop el contador de tiempo\n",
    "    print('\\nN° de tableros solución: %2d en %d iteraciones \\nRunning time: %f'%(count,maxIter , end_time-start_time))\n",
    "    print('Mejor tablero solución hallado con score {}'.format(problem.value(current)))\n",
    "    ShowBoard(current)  # muestra el tablero final\n"
   ]
  },
  {
   "cell_type": "markdown",
   "metadata": {},
   "source": [
    "### <b>Simulating Annealing</b> \n",
    "Implementación del algoritmo para la resolución de NQueenSearchs"
   ]
  },
  {
   "cell_type": "code",
   "execution_count": 21,
   "metadata": {},
   "outputs": [],
   "source": [
    "################################## MODIFICAR ###################################\n",
    "# HACER LAS MODIFICACIONES NECESARIAS PARA QUE ENCUENTRE TABLERO DE MINIMO SCORE\n",
    "def simulated_annealing(problem, T0, DR, maxIter):\n",
    "    \"\"\" Simulating annealing solver. \n",
    "           T0: Initial temperature\n",
    "           DR: The decay rate of the schedule function: Ti = T0*(DR)^i (Ti is the temperature at iteration i). \n",
    "               For efficiecy the schedule function is implemented as: Ti = T(i-1)*DR\n",
    "      maxIter: The maximum number of iterations\n",
    "    \"\"\"\n",
    "    count=0   # contador de iteraciones desde que se encuentra el 1er tablero solucion \n",
    "    current = problem.initial()  # lee el archivo del tablero inicial\n",
    "    current_score = problem.value(current)*-1    # evalua tablero inicial\n",
    "    # ORIGINAL ----> current_score = problem.value(current) \n",
    "\n",
    "    # muestra tablero inicial    \n",
    "    print('Simulated Annealing intentará resolver el siguiente tablero NQueens: ')\n",
    "    ShowBoard(current)  # muestra tablero inicial\n",
    "    print()    \n",
    "    \n",
    "    start_time = time()  # inicia el contador de tiempo\n",
    "    best_score = current_score\n",
    "    T=T0  # inicia temperatura en temperatura inicial\n",
    "    t = 0\n",
    "    while (t < maxIter):\n",
    "        if (t % 10000 == 0): \n",
    "            print('Iteration {},\\tTemperaure = {},\\tBest score = {},\\tCurrent score = {}'.format(t, T,best_score, current_score))\n",
    "\n",
    "        neighbor      = problem.random_neighbor(current)\n",
    "        neighborScore = problem.value(neighbor)*-1  # evalua tablero vecino\n",
    "        # ORIGINAL ----> neighborScore = problem.value(neighbor)\n",
    "        delta = float(neighborScore - current_score)  # diferencia entre el score del tablero vecino con respecto al actual\n",
    "            \n",
    "        if (delta > 0):   # si el tablero vecino generado es mejor que el actual, se acepta\n",
    "            \n",
    "            current = neighbor\n",
    "            current_score = neighborScore \n",
    "        elif ( random() < exp((delta/T)) ):  # si el tablero generado es peor, se acepta con probability  exp((delta/T))\n",
    "            current = neighbor\n",
    "            current_score = neighborScore \n",
    "            \n",
    "        if (current_score > best_score):  # si el tablero actual es mejor que el mejor tablero encontado hasta ahora\n",
    "          \n",
    "            best_board = deepcopy(current)\n",
    "            best_score = current_score\n",
    "                \n",
    "        if current_score == 0:  # si es tablero solucion   \n",
    "            best_board = current\n",
    "            best_score = current_score\n",
    "            if count==0: \n",
    "                best_iteracion = t   # iteracion donde se encontro el 1er tablero solucion\n",
    "            count += 1  # aumenta contador de tableros solucion encontrados\n",
    "            \n",
    "        T = T*DR   # aplica decaimiento de temperatura\n",
    "        t += 1\n",
    "    end_time = time()  # stop del contador de tiempo\n",
    "    \n",
    "    if best_score == 0:\n",
    "        print (\"\\nSA encontro tablero solucion en iteracion = {} de {} iteraciones\".format(best_iteracion, t))\n",
    "        \n",
    "    else:\n",
    "        print(\"\\nSA no encontró tablero solucion!. Este es el mejor tablero encontrado con score={}:\".format(best_score))\n",
    "    \n",
    "    print(\"N° de tableros solución: %2d en %d iteraciones \\nRunning time: %f\"%(count, t , end_time-start_time))\n",
    "    ShowBoard(best_board)  # muestra el mejor tablero"
   ]
  },
  {
   "cell_type": "markdown",
   "metadata": {},
   "source": [
    "## <b> Experimentación con los algoritmos de Búsqueda</b> "
   ]
  },
  {
   "cell_type": "code",
   "execution_count": 22,
   "metadata": {},
   "outputs": [
    {
     "name": "stdout",
     "output_type": "stream",
     "text": [
      "8-Queens Original\n",
      "  _ _ _ _ _ _ _ _\n",
      "| * * * * * * Q * |\n",
      "| Q * * * * * * * |\n",
      "| * * * * * * Q * |\n",
      "| * * * * * Q * * |\n",
      "| * * * * Q * * * |\n",
      "| * * * * * * Q * |\n",
      "| * * * * * Q * * |\n",
      "| Q * * * * * * * |\n",
      "  _ _ _ _ _ _ _ _\n"
     ]
    }
   ],
   "source": [
    "# ESTA CELDA NO NECESITA SER MODIFICADA\n",
    "\"\"\" Carga un tablero de archivo en disco e instancia el problema de busqueda  \"\"\"\n",
    "problem = NQueensSearch(\"queens.txt\")\n",
    "print(\"8-Queens Original\")\n",
    "ShowBoard(problem.initial())"
   ]
  },
  {
   "cell_type": "markdown",
   "metadata": {},
   "source": [
    "### Hill Climbing\n",
    "\n",
    "Llama a Hill Climbing para resolver el tablero 'queens.txt' con numero de iteraciones maxIter=1000"
   ]
  },
  {
   "cell_type": "code",
   "execution_count": 23,
   "metadata": {},
   "outputs": [
    {
     "name": "stdout",
     "output_type": "stream",
     "text": [
      "8-Queens Hill Climbing\n",
      "Hill Climbing intentará resolver el siguiente tablero NQueens:\n",
      "  _ _ _ _ _ _ _ _\n",
      "| * * * * * * Q * |\n",
      "| Q * * * * * * * |\n",
      "| * * * * * * Q * |\n",
      "| * * * * * Q * * |\n",
      "| * * * * Q * * * |\n",
      "| * * * * * * Q * |\n",
      "| * * * * * Q * * |\n",
      "| Q * * * * * * * |\n",
      "  _ _ _ _ _ _ _ _\n",
      "\n",
      "Iteration 0,\tCurrent score  = 10\n",
      "Iteration 100,\tCurrent score  = 1\n",
      "Iteration 200,\tCurrent score  = 1\n",
      "Iteration 300,\tCurrent score  = 1\n",
      "Iteration 400,\tCurrent score  = 1\n",
      "Iteration 500,\tCurrent score  = 1\n",
      "Iteration 600,\tCurrent score  = 1\n",
      "Iteration 700,\tCurrent score  = 1\n",
      "Iteration 800,\tCurrent score  = 1\n",
      "Iteration 900,\tCurrent score  = 1\n",
      "\n",
      "N° de tableros solución:  0 en 1000 iteraciones \n",
      "Running time: 2.029613\n",
      "Mejor tablero solución hallado con score 1\n",
      "  _ _ _ _ _ _ _ _\n",
      "| * * Q * * * * * |\n",
      "| * * * * * Q * * |\n",
      "| * * * * * * * Q |\n",
      "| * Q * * * * * * |\n",
      "| * * * * Q * * * |\n",
      "| * * * * * * Q * |\n",
      "| * * * Q * * * * |\n",
      "| Q * * * * * * * |\n",
      "  _ _ _ _ _ _ _ _\n"
     ]
    }
   ],
   "source": [
    "###### COMPLETAR PRUEBA #########\n",
    "problem = NQueensSearch(\"queens.txt\")\n",
    "print(\"8-Queens Hill Climbing\")\n",
    "hill_climbing(problem,1000)"
   ]
  },
  {
   "cell_type": "markdown",
   "metadata": {},
   "source": [
    "### Simulated Annealing"
   ]
  },
  {
   "cell_type": "code",
   "execution_count": 24,
   "metadata": {},
   "outputs": [
    {
     "name": "stdout",
     "output_type": "stream",
     "text": [
      "8-Queens Simulated Annealing\n",
      "Simulated Annealing intentará resolver el siguiente tablero NQueens: \n",
      "  _ _ _ _ _ _ _ _\n",
      "| * * * * * * Q * |\n",
      "| Q * * * * * * * |\n",
      "| * * * * * * Q * |\n",
      "| * * * * * Q * * |\n",
      "| * * * * Q * * * |\n",
      "| * * * * * * Q * |\n",
      "| * * * * * Q * * |\n",
      "| Q * * * * * * * |\n",
      "  _ _ _ _ _ _ _ _\n",
      "\n",
      "Iteration 0,\tTemperaure = 0.5,\tBest score = -10,\tCurrent score = -10\n",
      "Iteration 10000,\tTemperaure = 0.45241848280737684,\tBest score = 0,\tCurrent score = -2\n",
      "Iteration 20000,\tTemperaure = 0.4093649671714617,\tBest score = 0,\tCurrent score = -1\n",
      "Iteration 30000,\tTemperaure = 0.3704085547244124,\tBest score = 0,\tCurrent score = 0\n",
      "Iteration 40000,\tTemperaure = 0.33515935269458563,\tBest score = 0,\tCurrent score = -1\n",
      "Iteration 50000,\tTemperaure = 0.3032645716895745,\tBest score = 0,\tCurrent score = -2\n",
      "Iteration 60000,\tTemperaure = 0.2744049948260552,\tBest score = 0,\tCurrent score = -1\n",
      "Iteration 70000,\tTemperaure = 0.24829178286794154,\tBest score = 0,\tCurrent score = 0\n",
      "Iteration 80000,\tTemperaure = 0.22466358339730758,\tBest score = 0,\tCurrent score = -1\n",
      "Iteration 90000,\tTemperaure = 0.20328391508535776,\tBest score = 0,\tCurrent score = 0\n",
      "\n",
      "SA encontro tablero solucion en iteracion = 358 de 100000 iteraciones\n",
      "N° de tableros solución: 37242 en 100000 iteraciones \n",
      "Running time: 4.181036\n",
      "  _ _ _ _ _ _ _ _\n",
      "| * * * * Q * * * |\n",
      "| * Q * * * * * * |\n",
      "| * * * * * Q * * |\n",
      "| Q * * * * * * * |\n",
      "| * * * * * * Q * |\n",
      "| * * * Q * * * * |\n",
      "| * * * * * * * Q |\n",
      "| * * Q * * * * * |\n",
      "  _ _ _ _ _ _ _ _\n"
     ]
    }
   ],
   "source": [
    "###### COMPLETAR PRUEBA #########\n",
    "problem = NQueensSearch(\"queens.txt\")\n",
    "print(\"8-Queens Simulated Annealing\")\n",
    "simulated_annealing(problem, T0=0.5, DR=.99999, maxIter=100000)"
   ]
  },
  {
   "cell_type": "markdown",
   "metadata": {},
   "source": [
    "# Preguntas:\n",
    "**1.** Se presenta el tablero: 'queens.txt' de las 8-Queens con función de costo: \n",
    "    \n",
    "        h = número de pares de reinas que se atacan mutuamente    \n",
    "\n",
    "Además, se implementan los algoritmos Simulating Annealing (SA) y Hill Climbing (HC) con los siguientes parámetros (ellos garantizan una misma cantidad de tableros evaluados como máximo):\n",
    "\n",
    "        HC: maxIter=1000\n",
    "        SA: T0=0.5, DR=.99999, maxIter=100000 \n",
    "        \n",
    "En el presente laboratorio, se proponen los algoritmos de búsqueda local, los cuales **maximizan** la función. Se solicita modificar el código en ambos algoritmos, con la finalidad de **minimizar** la función de costo (h) **(4 pts)**\n",
    "                 \n",
    "\n",
    "**2.** Después de haber completado el código, ¿el algoritmo Hill Climbing presenta soluciones óptimas? ¿Cuáles son las limitaciones que puede presentar este algoritmo de búsqueda local, según los resultados? **(4 pts)**\n",
    "\n",
    "\n",
    "**3.** En cuanto a las soluciones encontradas por Simulated Annealing, ¿este algoritmo presenta soluciones óptimas? ¿Cómo se pueden interpretar y relacionar los resultados con su teoría y propiedades? Por otro lado, ¿cómo controlamos el grado de exploración de un algoritmo Simulated Annealing? **(4 pts)**\n",
    "\n",
    "\n",
    "**4.** Usando fundamento teórico, ¿cuáles son las principales ventajas de Simulated Annealing sobre Hill Climbing? Además, relacione su respuesta con los resultados obtenidos en las pruebas. **(4 pts)**\n",
    "\n",
    "\n",
    "\n",
    "**5.** ¿Qué estrategias de mejora se pueden aplicar en Hill Climbing, en el caso de NQueens? **(2 pts)**\n",
    "\n",
    "\n",
    "\n",
    "\n",
    "**6.** Justificar, teóricamente, la limitación del método de búsqueda Beam search **(2 pts)** \n",
    "\n",
    "\n",
    "\n"
   ]
  },
  {
   "cell_type": "markdown",
   "metadata": {},
   "source": [
    "Pregunta 2:\n",
    "\n",
    "El Hill Climbing presenta una solucion optima, la que coincidentemente es la primera. Las limitaciones de este algoritmo es que\n",
    "es que esta encontrando los maximos locales, es decir analiza los picos de la superficie del espacio de estados donde ningun estado vecino tiene mayor valor. En el caso del caso analizado podemos ver que encuentra una solucion con score 1 y dado que el algoritmo usa un <= esta actualizando este valor para las siguientes iteraciones dado que sus current score son mayores a ese.\n",
    "\n",
    "Finalmente es importante mencionar que otros de los problemas por los cuales hill-climbing no puede encontrar la solucion optima son las cretas y las mesetas. Las crestas gracias a que existen una secuencia de picos muy dificiles de explorar y las mesetas dado que hill climbing se quedaria perdido ya que son areas planas del espacio de estados."
   ]
  },
  {
   "cell_type": "markdown",
   "metadata": {},
   "source": [
    "Pregunta 3:\n",
    "\n",
    "Dado que el algoritmo Simulated Annealing combina el algoritmo hill-climbing con caminos aleatorios garantiza completitud por lo que podemos asegurar que presentará soluciones optimas. Por otra parte, observando los resultados podemos afirmar lo dicho anteriormente dado que este algoritmo no se basa en los maximos locales sino que nos asegura una completitud en el analisis.\n",
    "La teoria de este algoritmo nos dice que la temperatura, osea la probabilidad de que estados vecinos con pobre evaluación puedan ser escogidos como sucesores, disminuye con el pasar del tiempo. Esto lo podemos presenciar con la prueba realizada donde observamos como la temperatura va disminuyendo mientras vamos avanzando en las iteraciones analizadas.\n",
    "\n",
    "El grado de exploracion esta relacionado a la temperatura dado que mientras mayor temperatura tengamos existe una alta probabilidad de que estados vecinos con pobre evaluacion sean escogidos como sucesores. En el algoritmo podemos observar que el parametro DR brindado a la funcion simulated_annealing afecta directamente el grado de exploracion del algoritmo dado que este se esta multiplicando a T(Ti = T0*(DR)^i) lo que aplicaq un decaimiento en la temperatura y por lo tanto se controla el grado de exploracion."
   ]
  },
  {
   "cell_type": "markdown",
   "metadata": {},
   "source": [
    "Pregunta 4:\n",
    "\n",
    "Hill climbing presenta limitaciones que el algoritmo Simulated Annealing logra resolver.\n",
    "Por ejemplo, Hill Climbing presenta problemas con los maximos locales, es decir en los picos de la superficie del espacio de estados donde ningun estado vecino tiene mayor valor que el estado actual lo que ocasiona que el algoritmo no pueda encontrar una solucion optima. Simulated Annealing resuelve este problema dado que combina el algoritmo Hill Climbing con random walk lo que le garantiza mayor completitud. \n",
    "Por otra parte, dado que Simulated Annealing combina esos dos algoritmos le garantiza mayor eficiencia.\n",
    "Relacionandolo con las pruebas podemos observar que el algoritmo Hill Climbing nos da como respuesta un score de 1 dado que ese es su maximo local y por eso no puede encontrar la solucion optima. Por otro lado, podemos observar que este problema es solucionado por el algoritmo de Simulated Annealing dado que gracias a la combinacion de dos algoritmos mencionados anteriormente nos este dando como resultado una solucion mas optima.\n",
    "\n",
    "Finalmente es importante mencionar que otros de los problemas por los cuales hill-climbing no puede encontrar la solucion optima son las cretas y las mesetas. Las crestas gracias a que existen una secuencia de picos muy dificiles de explorar y las mesetas dado que hill climbing se quedaria perdido ya que son areas planas del espacio de estados."
   ]
  },
  {
   "cell_type": "markdown",
   "metadata": {},
   "source": [
    "Pregunta 5:\n",
    "\n",
    "Dado que el Hill Climbing presenta el problema de los maximos locales, el cual podemos presenciar en la prueba mostrada dado que se esta atascando en uno ya que nos muestra el mismo resultado podemos realizar posibles mejoras como por ejemplo realizar reinicios aleatorios y de esta forma ejecutar varias busquedas a partir de varios estados iniciales ecogidos aleatoriamente, esta mejora es completa dado que en el peor de los casos terminara generand el estado objetivo como estado inicial pero sin embargo es ineficiente. Otra mejora que podemos realizar es el Stochastic Hill Climbing, el cual escoje aleatoriamente el sucesor con probalilidad proporcional al aumento de la funcion objetivo."
   ]
  },
  {
   "cell_type": "markdown",
   "metadata": {},
   "source": [
    "Pregunta 6:\n",
    "\n",
    "Explicacion previa del funcionamiento del algoritmo:\n",
    "El metodo Local Beam Search mantiene k estados en lugar de otros para posteriormente emepzar con k estados generados aleatoriamente. En cada interacion generará sucesores y si alguno de estos es objetivo la busqueda termina, de lo contrario elige a los k mejores estaod s de la lista y se continua iterando\n",
    "\n",
    "Limitacion del metodo Local Beam Search:\n",
    "Una vez entendido como funciona este algoritmo podemos mencionar su limitacion. El problema con el Local Beam Search es que sufre de falta de diversidad, en otras palabras, la busqueda se concentra rapidamente en una pequeña region del espacio de estados ocasionando que el resultado no sea el optimo en algunas oportunidades.\n",
    "\n",
    "Como solucionarlo?:\n",
    "Una alternativa de solucion es el algoritmo Stochastic Beam Search. Este algoritmo escoge k sucesores aleatoriamnete con probabilidad proporcional a sus valores solucionando asi el problema de falta de diversidad mecionado anteriormente."
   ]
  }
 ],
 "metadata": {
  "kernelspec": {
   "display_name": "Python 3",
   "language": "python",
   "name": "python3"
  },
  "language_info": {
   "codemirror_mode": {
    "name": "ipython",
    "version": 3
   },
   "file_extension": ".py",
   "mimetype": "text/x-python",
   "name": "python",
   "nbconvert_exporter": "python",
   "pygments_lexer": "ipython3",
   "version": "3.8.5"
  }
 },
 "nbformat": 4,
 "nbformat_minor": 4
}

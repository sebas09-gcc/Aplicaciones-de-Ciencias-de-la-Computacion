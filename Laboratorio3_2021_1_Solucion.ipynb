{
  "cells": [
    {
      "cell_type": "markdown",
      "metadata": {
        "id": "view-in-github",
        "colab_type": "text"
      },
      "source": [
        "<a href=\"https://colab.research.google.com/github/sebas09-gcc/Aplicaciones-de-Ciencias-de-la-Computacion/blob/main/Laboratorio3_2021_1_Solucion.ipynb\" target=\"_parent\"><img src=\"https://colab.research.google.com/assets/colab-badge.svg\" alt=\"Open In Colab\"/></a>"
      ]
    },
    {
      "cell_type": "markdown",
      "metadata": {
        "id": "wFGHDge1q4gz"
      },
      "source": [
        "# APLICACIONES EN CIENCIAS DE COMPUTACION"
      ]
    },
    {
      "cell_type": "markdown",
      "metadata": {
        "id": "Wk2dv1Rzq4g2"
      },
      "source": [
        "## Laboratorio 3:  Busqueda con Informacion (Busqueda codiciosa, A* y heurísticas)\n",
        "\n",
        "Indicaciones previas:\n",
        "- Se recomienda utilizar Jupyter Notebook para la resolución del presente cuadernillo.\n",
        "- Las respuestas deben tener un buen fundamento teórico, se realizarán descuentos en el puntaje a respuestas que no contesten a lo solicitado\n",
        "- Cualquier indicio de plagio resultará en la anulación de la prueba.\n",
        "\n",
        "La tarea de este laboratorio consiste en comparar métodos de busqueda a ciegas y busqueda con información A* para buscar caminos en un laberinto.<br>La clase MazeSearchProblem necesita ser completada (metodos actions y result).<br>Deberá implementarse 4 heurísticas para A* (euclidean_dist:distancia en linea recta, manhattan_dist:distancia Manhattan, chebyshev_dist:distancia Chebyshev, lab03_dist: distancia implementada para el laboratorio 3).<br>Después de implementar lo anteriormente mencionado, realice las pruebas con el laberinto the_maze.txt.<br>Al final de este notebook se encuentran las preguntas que serán evaluadas en este laboratorio.\n",
        "\n",
        "**Usted deberá completar el código en las secciones indicadas con \"COMPLETAR\"**\n"
      ]
    },
    {
      "cell_type": "markdown",
      "metadata": {
        "id": "saqzg67Tq4g3"
      },
      "source": [
        "### Clase <b>Maze</b>\n",
        "La clase Maze es representada por una matriz (grid) de espacios, los cuales pueden estar libres o bloqueados. Cada celda del grid puede tener uno de los siguientes carateres:\n",
        "\n",
        "    '#': Indica una celda con obstaculo  (impasable)\n",
        "    '~': Indica una celda con agua (pasable, con costo 6)\n",
        "    '=': Indica una celda con arena (pasable, con costo 3)\n",
        "    ' ': Indica una celda vacia (pasable con costo 1)\n",
        "    'S': Indica la celda de inicio (Start)\n",
        "    'E': Indica la celda de salida ( End )"
      ]
    },
    {
      "cell_type": "code",
      "execution_count": null,
      "metadata": {
        "id": "hG2ZKq4Jq4g5"
      },
      "outputs": [],
      "source": [
        "class Maze:\n",
        "\n",
        "    def __init__(self, grid):\n",
        "        \"\"\" Construye el maze a partir del grid ingresado\n",
        "            grid: debe ser una matriz (lista de listas), ejemplo [['#','S',' '],['#',' ','E']]  \"\"\"\n",
        "        self.grid = grid\n",
        "        self.numRows = len(grid)\n",
        "        self.numCols = len(grid[0])\n",
        "        for i in range(self.numRows):\n",
        "            for j in range(self.numCols):\n",
        "                if len(grid[i]) != self.numCols:\n",
        "                    raise \"Grid no es Rectangular\"\n",
        "                if grid[i][j] == 'S':\n",
        "                    self.startCell = (i,j)\n",
        "                if grid[i][j] == 'E':\n",
        "                    self.exitCell= (i,j)\n",
        "        if self.exitCell == None:\n",
        "            raise \"No hay celda de Inicio\"\n",
        "        if self.startCell == None:\n",
        "            raise \"No hay celda de salida\"\n",
        "\n",
        "    def isPassable(self, row, col):\n",
        "        \"\"\" Retorna true si la celda (row,col) es pasable  (' ' o '~' o '=') \"\"\"\n",
        "        return self.isWater(row, col) or isSAnd(row,col) or self.isClear(row, col)\n",
        "\n",
        "    def isBlocked(self, row,col):\n",
        "        \"\"\" Retorna true si la celda (row,col) tiene obstaculo ('#') \"\"\"\n",
        "        return self.grid[row][col] == '#'\n",
        "\n",
        "    def isClear(self,row,col):\n",
        "        return self.grid[row][col] == ' '\n",
        "\n",
        "    def isSand(self, row,col):\n",
        "        \"\"\" Retorna true si la celda (row,col) tiene obstaculo ('#') \"\"\"\n",
        "        return self.grid[row][col] == '='\n",
        "\n",
        "    def isWater(self, row, col):\n",
        "        return self.grid[row][col] == '~'\n",
        "\n",
        "    def getNumRows(self):\n",
        "        \"\"\" Retorna el numero de filas en el maze \"\"\"\n",
        "        return self.numRows\n",
        "\n",
        "    def getNumCols(self):\n",
        "        \"\"\" Retorna el numero de columnas en el maze \"\"\"\n",
        "        return self.numCols\n",
        "\n",
        "    def getStartCell(self):\n",
        "        \"\"\" Retorna la posicion (row,col) de la celda de inicio \"\"\"\n",
        "        return self.startCell\n",
        "\n",
        "    def getExitCell(self):\n",
        "        \"\"\" Retorna la posicion (row,col) de la celda de salida \"\"\"\n",
        "        return self.exitCell\n",
        "\n",
        "    def __getAsciiString(self):\n",
        "        \"\"\" Retorna el string de vizualizacion del maze \"\"\"\n",
        "        lines = []\n",
        "        headerLine = ' ' + ('-' * (self.numCols)) + ' '\n",
        "        lines.append(headerLine)\n",
        "        for row in self.grid:\n",
        "            rowLine = '|' + ''.join(row) + '|'\n",
        "            lines.append(rowLine)\n",
        "        lines.append(headerLine)\n",
        "        return '\\n'.join(lines)\n",
        "\n",
        "    def __str__(self):\n",
        "        return self.__getAsciiString()"
      ]
    },
    {
      "cell_type": "markdown",
      "metadata": {
        "id": "veG_ovgSq4g_"
      },
      "source": [
        "### Funcion para cargar una laberinto de archivo de disco"
      ]
    },
    {
      "cell_type": "code",
      "execution_count": null,
      "metadata": {
        "id": "kc9MTh_sq4hB"
      },
      "outputs": [],
      "source": [
        "def readMazeFromFile(file):\n",
        "    \"\"\" Lee un archivo que contiene un laberinto y retorna una instancia de Maze con dicho laberinto\"\"\"\n",
        "    fin = open(file)\n",
        "    lines = fin.read().splitlines()\n",
        "    grid = []\n",
        "    for line in lines:\n",
        "        grid.append(list(line))\n",
        "    return Maze(grid)"
      ]
    },
    {
      "cell_type": "markdown",
      "metadata": {
        "id": "fIocqccGq4hH"
      },
      "source": [
        "### Clase <b>SearchProblem</b>\n",
        "\n",
        "Esta es una clase abstracta para definir problemas de busqueda. Se debe hacer subclases que implementen los metodos de las acciones, resultados, test de objetivo y el costo de camino. Entonces se puede instanciar las subclases y resolverlos con varias funciones de busqueda."
      ]
    },
    {
      "cell_type": "code",
      "execution_count": null,
      "metadata": {
        "id": "Ix26qwRnq4hK"
      },
      "outputs": [],
      "source": [
        "class SearchProblem(object):\n",
        "    def __init__(self, initial, goal=None):\n",
        "        \"\"\"Este constructor especifica el estado inicial y posiblemente el estado(s) objetivo(s),\n",
        "        La subclase puede añadir mas argumentos.\"\"\"\n",
        "        self.initial = initial\n",
        "        self.goal = goal\n",
        "\n",
        "    def actions(self, state):\n",
        "        \"\"\"Retorna las acciones que pueden ser ejecutadas en el estado dado.\n",
        "        El resultado es tipicamente una lista.\"\"\"\n",
        "        raise NotImplementedError\n",
        "\n",
        "    def result(self, state, action):\n",
        "        \"\"\"Retorna el estado que resulta de ejecutar la accion dada en el estado state.\n",
        "        La accion debe ser alguna de self.actions(state).\"\"\"\n",
        "        raise NotImplementedError\n",
        "\n",
        "    def goal_test(self, state):\n",
        "        \"\"\"Retorna True si el estado pasado satisface el objetivo.\"\"\"\n",
        "        raise NotImplementedError\n",
        "\n",
        "    def path_cost(self, c, state1, action, state2):\n",
        "        \"\"\"Retorna el costo del camino de state2 viniendo de state1 con\n",
        "        la accion action, asumiendo un costo c para llegar hasta state1.\n",
        "        El metodo por defecto cuesta 1 para cada paso en el camino.\"\"\"\n",
        "        return c + 1"
      ]
    },
    {
      "cell_type": "markdown",
      "metadata": {
        "id": "JcMTkTJ2q4hQ"
      },
      "source": [
        "###  <b> Clase MazeSearchProblem </b>  \n",
        "Esta es una subclase de SearchProblem que implementa concretamente el problema de busqueda en laberinto. El constructor recibe el laberinto en un objeto maze. Cada estado es codificado como una tupla (row,col) representando la posicion de una celda del grid. El estado inicial es la celda de inicio y el único estado objetivo es la celda de salida.\n",
        "Se necesita completar Actions (acciones legales para un estado dado) y result (que hacen las acciones)."
      ]
    },
    {
      "cell_type": "code",
      "execution_count": null,
      "metadata": {
        "id": "zHnslRtFq4hR"
      },
      "outputs": [],
      "source": [
        "class MazeSearchProblem(SearchProblem):\n",
        "    def __init__(self, maze):\n",
        "        \"\"\"El constructor recibe el maze\"\"\"\n",
        "        self.maze = maze\n",
        "        self.initial = maze.getStartCell()\n",
        "        self.goal = maze.getExitCell()\n",
        "        self.numNodesExpanded = 0\n",
        "        self.expandedNodeSet = {}\n",
        "\n",
        "    def __isValidState(self,state):\n",
        "        \"\"\" Retorna true si el estado dado corresponde a una celda no bloqueada valida \"\"\"\n",
        "        row,col = state\n",
        "        if row < 0 or row >= self.maze.getNumRows():\n",
        "            return False\n",
        "        if col < 0 or col >= self.maze.getNumCols():\n",
        "            return False\n",
        "        return not self.maze.isBlocked(row,col)\n",
        "\n",
        "    def actions(self, state):\n",
        "        \"\"\"Retorna las acciones legales desde la celda actual \"\"\"\n",
        "        row,col = state\n",
        "        acciones = []\n",
        "        if self.__isValidState((row-1, col)):\n",
        "            acciones.append('N')\n",
        "\n",
        "        #########################################################################################################\n",
        "\n",
        "                                                        #COMPLETAR\n",
        "\n",
        "        #Se usan varios ifs, pues puede tener varias acciones validas\n",
        "\n",
        "        if self.__isValidState((row+1, col)):  #Para ir al sur (abajo)\n",
        "            acciones.append('S')\n",
        "\n",
        "        if self.__isValidState((row, col-1)):  #Para ir al oeste (izquierda)\n",
        "            acciones.append('W')\n",
        "\n",
        "        if self.__isValidState((row, col+1)):  #Para ir al este (derecha)\n",
        "            acciones.append('E')\n",
        "\n",
        "        #########################################################################################################\n",
        "\n",
        "        return acciones\n",
        "\n",
        "    def result(self, state, action):\n",
        "        \"\"\"Retorna el estado que resulta de ejecutar la accion dada desde la celda actual.\n",
        "        La accion debe ser alguna de self.actions(state)\"\"\"\n",
        "        row,col = state\n",
        "        newState = ()\n",
        "        if action == 'N':\n",
        "            newState = (row-1, col)\n",
        "\n",
        "        #########################################################################################################\n",
        "\n",
        "                                                        #COMPLETAR\n",
        "\n",
        "        #Se usa elif pues solo puede tomar una accion para verificar el resultado\n",
        "\n",
        "        elif action == 'S':\n",
        "            newState = (row+1, col)  #Al sur (abajo)\n",
        "\n",
        "        elif action == 'W':\n",
        "            newState = (row, col-1)  #Al oeste (izquierda)\n",
        "\n",
        "        elif action == 'E':\n",
        "            newState = (row, col+1)  #Al este (derecha)\n",
        "\n",
        "        #########################################################################################################\n",
        "\n",
        "        return newState\n",
        "\n",
        "\n",
        "    def goal_test(self, state):\n",
        "        \"\"\"Retorna True si state es self.goal\"\"\"\n",
        "        return (self.goal == state)\n",
        "\n",
        "    def path_cost(self, c, state1, action, state2):\n",
        "        \"\"\"Retorna el costo del camino de state2 viniendo de state1 con la accion action\n",
        "        El costo del camino para llegar a state1 es c. El costo de la accion sale de self.maze \"\"\"\n",
        "        row, col = state2\n",
        "\n",
        "        if self.maze.isClear(row, col):\n",
        "            actionCost = 1     #Pasable es 1   # COMPLETAR COSTO\n",
        "        elif self.maze.isWater(row, col):\n",
        "            actionCost = 6     #Agua es 6      # COMPLETAR COSTO\n",
        "        elif self.maze.isSand(row, col):\n",
        "            actionCost = 3     #Arena es 3     # COMPLETAR COSTO\n",
        "        elif state2 == self.maze.getStartCell() or state2 == self.maze.getExitCell():\n",
        "            actionCost = 1\n",
        "        else:\n",
        "            raise \"El costo de una celda bloqueada no esta definido\"\n",
        "        return c + actionCost\n"
      ]
    },
    {
      "cell_type": "markdown",
      "metadata": {
        "id": "iRkaAWxNq4hU"
      },
      "source": [
        "### Clase <b>Node</b>\n",
        "\n",
        "Estructura de datos para almacenar la información de un nodo en un <b>arbol de busqueda</b>. Contiene información del nodo padre y el estado que representa el nodo. Tambien incluye la acción que nos llevo al presente nodo y el costo total del camino desde el nodo raíz hasta este nodo."
      ]
    },
    {
      "cell_type": "code",
      "execution_count": null,
      "metadata": {
        "id": "u4iDAiKtq4hV"
      },
      "outputs": [],
      "source": [
        "# ESTA CELDA NO NECESITA SER MODIFICADA\n",
        "class Node:\n",
        "    def __init__(self, state, parent=None, action=None, path_cost=0):\n",
        "        \"Crea un nodo de arbol de busqueda, derivado del nodo parent y accion action\"\n",
        "        self.state = state\n",
        "        self.parent = parent\n",
        "        self.action = action\n",
        "        self.path_cost = path_cost\n",
        "        self.depth = 0\n",
        "        if parent:\n",
        "            self.depth = parent.depth + 1\n",
        "\n",
        "    def expand(self, problem):\n",
        "        \"Devuelve los nodos alcanzables en un paso a partir de este nodo.\"\n",
        "        return [self.child_node(problem, action)\n",
        "                for action in problem.actions(self.state)]\n",
        "\n",
        "    def child_node(self, problem, action):\n",
        "        next = problem.result(self.state, action)\n",
        "        return Node(next, self, action,\n",
        "                    problem.path_cost(self.path_cost, self.state, action, next))\n",
        "\n",
        "    def solution(self):\n",
        "        \"Retorna la secuencia de acciones para ir de la raiz a este nodo.\"\n",
        "        return [node.action for node in self.path()[1:]]\n",
        "\n",
        "    def path(self):\n",
        "        \"Retorna una lista de nodos formando un camino de la raiz a este nodo.\"\n",
        "        node, path_back = self, []\n",
        "        while node:\n",
        "            path_back.append(node)\n",
        "            node = node.parent\n",
        "        return list(reversed(path_back))\n",
        "\n",
        "    def __lt__(self, node):\n",
        "        return self.state < node.state\n",
        "\n",
        "    def __eq__(self, other):\n",
        "        \"Este metodo se ejecuta cuando se compara nodos. Devuelve True cuando los estados son iguales\"\n",
        "        return isinstance(other, Node) and self.state == other.state\n",
        "\n",
        "    def __repr__(self):\n",
        "        return \"<Node {}>\".format(self.state)\n",
        "\n",
        "    def __hash__(self):\n",
        "        return hash(self.state)"
      ]
    },
    {
      "cell_type": "markdown",
      "metadata": {
        "id": "-z1VHl3Pq4hY"
      },
      "source": [
        "### <b> Frontera tipo cola FIFO (first-in first out) para BFS</b>"
      ]
    },
    {
      "cell_type": "code",
      "execution_count": null,
      "metadata": {
        "id": "YANBIXmXq4hZ"
      },
      "outputs": [],
      "source": [
        "# ESTA CELDA NO NECESITA SER MODIFICADA\n",
        "from collections import deque\n",
        "\n",
        "class FIFOQueue(deque):\n",
        "    \"\"\"Una cola First-In-First-Out\"\"\"\n",
        "    def pop(self):\n",
        "        return self.popleft()"
      ]
    },
    {
      "cell_type": "markdown",
      "metadata": {
        "id": "3X71Ma4cq4hd"
      },
      "source": [
        "### <b> Frontera tipo cola de prioridad ordenada por una funcion de costo (para best_first_graph_search y A*)</b>"
      ]
    },
    {
      "cell_type": "code",
      "execution_count": null,
      "metadata": {
        "id": "CKRFAmUEq4hf"
      },
      "outputs": [],
      "source": [
        "# ESTA CELDA NO NECESITA SER MODIFICADA\n",
        "import heapq\n",
        "class FrontierPQ:\n",
        "    \"Una Frontera ordenada por una funcion de costo (Priority Queue)\"\n",
        "\n",
        "    def __init__(self, initial, costfn=lambda node: node.path_cost):\n",
        "        \"Inicializa la Frontera con un nodo inicial y una funcion de costo especificada (por defecto es el costo de camino).\"\n",
        "        self.heap   = []\n",
        "        self.states = {}\n",
        "        self.costfn = costfn\n",
        "        self.add(initial)\n",
        "\n",
        "    def add(self, node):\n",
        "        \"Agrega un nodo a la frontera.\"\n",
        "        cost = self.costfn(node)\n",
        "        heapq.heappush(self.heap, (cost, node))\n",
        "        self.states[node.state] = node\n",
        "\n",
        "    def pop(self):\n",
        "        \"Remueve y retorna el nodo con minimo costo.\"\n",
        "        (cost, node) = heapq.heappop(self.heap)\n",
        "        self.states.pop(node.state, None) # remove state\n",
        "        return node\n",
        "\n",
        "    def replace(self, node):\n",
        "        \"node reemplaza al nodo de la Fontera que tiene el mismo estado que node.\"\n",
        "        if node.state not in self:\n",
        "            raise ValueError('{} no tiene nada que reemplazar'.format(node.state))\n",
        "        for (i, (cost, old_node)) in enumerate(self.heap):\n",
        "            if old_node.state == node.state:\n",
        "                self.heap[i] = (self.costfn(node), node)\n",
        "                heapq._siftdown(self.heap, 0, i)\n",
        "                return\n",
        "\n",
        "    def __contains__(self, state): return state in self.states\n",
        "\n",
        "    def __len__(self): return len(self.heap)"
      ]
    },
    {
      "cell_type": "markdown",
      "metadata": {
        "id": "aJNeW471q4hi"
      },
      "source": [
        "### <b>Algoritmo general de búsqueda con memoria de nodos expandidos (Graph Search)</b>\n",
        "\n",
        "Algoritmo de general de busqueda ciega con memoria de estados visitados. El argumento frontier debe ser una cola vacia. Si la frontera es tipo FIFO hace busqueda en amplitud (BFS), si la frontera es una pila hará busqueda en profundidad (DFS)"
      ]
    },
    {
      "cell_type": "code",
      "execution_count": null,
      "metadata": {
        "id": "1O8dyg_zq4hk"
      },
      "outputs": [],
      "source": [
        "# ESTA CELDA NO NECESITA SER MODIFICADA\n",
        "def graph_search(problem, frontier):\n",
        "    frontier.append(Node(problem.initial))\n",
        "    explored = set()     # memoria de estados visitados\n",
        "    visited_nodes = []   # almacena nodos visitados durante la busqueda\n",
        "    while frontier:\n",
        "        node = frontier.pop()\n",
        "        visited_nodes.append(node)\n",
        "        if problem.goal_test(node.state):\n",
        "            return node, visited_nodes\n",
        "        explored.add(node.state)\n",
        "\n",
        "        frontier.extend(child for child in node.expand(problem)\n",
        "                        if child.state not in explored and\n",
        "                        child not in frontier)\n",
        "    return None"
      ]
    },
    {
      "cell_type": "markdown",
      "metadata": {
        "id": "dHsTKHrwq4hr"
      },
      "source": [
        "### <b> Algoritmo Best-First-Graph-Search </b>\n",
        "Algoritmo general de busqueda con información. La frontera es una cola de prioridad ordenada por la funcion de evaluacion f"
      ]
    },
    {
      "cell_type": "code",
      "execution_count": null,
      "metadata": {
        "id": "cDMuSarYq4hs"
      },
      "outputs": [],
      "source": [
        "# ESTA CELDA NO NECESITA SER MODIFICADA\n",
        "def best_first_graph_search(problem, f):\n",
        "    \"\"\"Busca el objetivo expandiendo el nodo de la frontera con el menor valor de la funcion f. Memoriza estados visitados\n",
        "    Antes de llamar a este algoritmo hay que especificar La funcion f(node). Si f es node.depth tenemos Busqueda en Amplitud;\n",
        "    si f es node.path_cost tenemos Busqueda  de Costo Uniforme. Si f es una heurística tenemos Busqueda Voraz;\n",
        "    Si f es node.path_cost + heuristica(node) tenemos A* \"\"\"\n",
        "\n",
        "    frontier = FrontierPQ( Node(problem.initial), f )  # frontera tipo cola de prioridad ordenada por f\n",
        "    explored = set()     # memoria de estados visitados\n",
        "    visited_nodes = []   # almacena nodos visitados durante la busqueda\n",
        "    while frontier:\n",
        "        node = frontier.pop()\n",
        "        visited_nodes.append(node)\n",
        "        if problem.goal_test(node.state):\n",
        "            return node, visited_nodes\n",
        "        explored.add(node.state)\n",
        "        for action in problem.actions(node.state):\n",
        "            child = node.child_node(problem, action)\n",
        "            if child.state not in explored and child.state not in frontier:\n",
        "                frontier.add(child)\n",
        "            elif child.state in frontier:\n",
        "                incumbent = frontier.states[child.state]\n",
        "                if f(child) < f(incumbent):\n",
        "                    frontier.replace(child)"
      ]
    },
    {
      "cell_type": "markdown",
      "metadata": {
        "id": "kZBF7yBsq4hw"
      },
      "source": [
        "### <b> Algoritmo A* </b>\n",
        "A* es un caso especial de best_first_graph_search con f = path_cost + heuristic"
      ]
    },
    {
      "cell_type": "code",
      "execution_count": null,
      "metadata": {
        "id": "H_zckGu3q4hz"
      },
      "outputs": [],
      "source": [
        "# ESTA CELDA NO NECESITA SER MODIFICADA\n",
        "def astar_search(problem, heuristic):\n",
        "    f = lambda node: node.path_cost + heuristic(node, problem)\n",
        "    return best_first_graph_search(problem, f)\n",
        "\n",
        "def nullheuristic(node, problem):   # heurística nula (A* se convierte en busqueda de costo uniforme)\n",
        "    return 0"
      ]
    },
    {
      "cell_type": "markdown",
      "metadata": {
        "id": "E7TdaAGRq4h2"
      },
      "source": [
        "### <b> Heurísticas para A* </b>\n",
        "Se debe implementar las heurísticas abajo para A*"
      ]
    },
    {
      "cell_type": "code",
      "execution_count": null,
      "metadata": {
        "id": "XSBXkiPLq4h3"
      },
      "outputs": [],
      "source": [
        "# DEBE COMPLETAR EL CÓDIGO DE CADA HEURÍSTICA DE ACUERDO A LA DESCRIPCIÓN DE CADA UNA\n",
        "\n",
        "import math\n",
        "\n",
        "def euclidean_dist(node, problem):\n",
        "    \"Distancia en linea recta desde la celda de node hasta la celda Objetivo (problem.goal)\"\n",
        "    ## COMPLETAR\n",
        "\n",
        "    (sx , sy) = node.state     #estado actual (posicion de fila y columna)\n",
        "    (gx , gy) = problem.goal   #estado objetivo (fila y columna)\n",
        "\n",
        "    #Se debe retornar la distancia entre ambos puntos, se usa los metodos de math\n",
        "    return math.sqrt( math.pow(sx - gx,2) + math.pow(sy - gy,2) )  # c^2 = a^2 + b^2\n",
        "\n",
        "def manhattan_dist(node, problem):\n",
        "    \"Distancia Manhattan (o city block) desde la celda de node hasta la celda Objetivo (problem.goal)\"\n",
        "    ## COMPLETAR\n",
        "\n",
        "    (sx , sy) = node.state     #estado actual (posicion de fila y columna)\n",
        "    (gx , gy) = problem.goal   #estado objetivo (fila y columna)\n",
        "\n",
        "    #Se debe retornar la suma de distancias de X y Y\n",
        "    return abs(sx - gx) + abs(sy - gy)\n",
        "\n",
        "\n",
        "def chebyshev_dist(node, problem):\n",
        "    \"Distancia de chebyshev (https://chris3606.github.io/GoRogue/articles/grid_components/measuring-distance.html#chebyshev-distance) desde la celda de node hasta la celda Objetivo (problem.goal)\"\n",
        "    ## COMPLETAR\n",
        "\n",
        "    (sx , sy) = node.state     #estado actual (posicion de fila y columna)\n",
        "    (gx , gy) = problem.goal   #estado objetivo (fila y columna)\n",
        "\n",
        "    #Se debe retornar la maxima distancia entre el eje x y el eje y\n",
        "    return max(abs(sx - gx),abs(sy - gy))\n",
        "\n",
        "def lab03_dist(node, problem):\n",
        "    \"Es el valor máximo de evaluar la distancia Euclidiana, Manhattan y Chebyshev\"\n",
        "    ## COMPLETAR\n",
        "\n",
        "    return max(euclidean_dist(node, problem),manhattan_dist(node, problem),chebyshev_dist(node, problem))\n",
        "\n",
        ""
      ]
    },
    {
      "cell_type": "markdown",
      "metadata": {
        "id": "8qRUfV3-q4h6"
      },
      "source": [
        "### <b> Función para mostrar los resultados </b>"
      ]
    },
    {
      "cell_type": "code",
      "execution_count": null,
      "metadata": {
        "id": "7ep8bOabq4h7"
      },
      "outputs": [],
      "source": [
        "# ESTA CELDA NO NECESITA SER MODIFICADA\n",
        "def displayResults(maze, visitedNodes, solutionNodes):\n",
        "    \"\"\" Muestra los resultados de busqueda en el maze.   \"\"\"\n",
        "    grid_copy = []\n",
        "    for row in maze.grid:\n",
        "        grid_copy.append([x for x in row])\n",
        "    for node in visitedNodes:\n",
        "        row,col = node.state\n",
        "        ch = maze.grid[row][col]\n",
        "        if ch != 'S' and ch != 'E': grid_copy[row][col] = 'o'\n",
        "    for node in solutionNodes:\n",
        "        row,col = node.state\n",
        "        ch = maze.grid[row][col]\n",
        "        if ch != 'S' and ch != 'E': grid_copy[row][col] = 'x'\n",
        "    maze_copy = Maze(grid_copy)\n",
        "    print (maze_copy)\n",
        "    print (\"x - celdas en la solucion\")\n",
        "    print (\"o - celdas visitadas durante la busqueda\")\n",
        "    print (\"-------------------------------\")"
      ]
    },
    {
      "cell_type": "markdown",
      "metadata": {
        "id": "xhQdPpzSq4h-"
      },
      "source": [
        "## <b> Experimentación con los algoritmos de Busqueda</b>\n"
      ]
    },
    {
      "cell_type": "code",
      "execution_count": null,
      "metadata": {
        "id": "O2aMuaFCq4h-",
        "outputId": "b6a96c8d-9821-4dc6-d991-0f6bdc38ae96"
      },
      "outputs": [
        {
          "name": "stdout",
          "output_type": "stream",
          "text": [
            " --------------------------- \n",
            "|#################~~~~~~~~~~|\n",
            "|#################    =~   #|\n",
            "|~~  S~~~~    ==   =~==~   #|\n",
            "| ~~~~~ ~~~  ====  ==~=~~  #|\n",
            "| ~   ===~~   #==   =~=~~  #|\n",
            "|~~   ===~~  ###    =~     #|\n",
            "|~~~  ===~~  ##   ###~     #|\n",
            "|~=~    ~~        ## ~   ###|\n",
            "| =~   ~  ##  == =~ =~   ###|\n",
            "|~~    ==###  == =~      ###|\n",
            "|##########   ==        ~###|\n",
            "|~~~~~~~~         ~~~~##~   |\n",
            "| ### # # ### ### ====##=   |\n",
            "| # # # # #   # #   ==~~~=  |\n",
            "| ### # # #   ###   =~~~==  |\n",
            "| #   # # #   #     =##~E   |\n",
            "| #   ### ### #     =##     |\n",
            "|~~~~~~~~~~~~~~~~~~~~~~~~~~~|\n",
            " --------------------------- \n"
          ]
        }
      ],
      "source": [
        "\"\"\" Carga un laberinto de archivo en disco e instancia el problema de busqueda.   \"\"\"\n",
        "maze = readMazeFromFile('maze3.txt')\n",
        "p = MazeSearchProblem(maze)\n",
        "print(maze)"
      ]
    },
    {
      "cell_type": "markdown",
      "metadata": {
        "id": "Lj1TWlnHq4iA"
      },
      "source": [
        "### Búsqueda en amplitud (BFS)"
      ]
    },
    {
      "cell_type": "code",
      "execution_count": null,
      "metadata": {
        "id": "3YfrEB4eq4iB",
        "scrolled": false,
        "outputId": "0facf8b3-cc25-4001-c96d-76aaea715fbc"
      },
      "outputs": [
        {
          "name": "stdout",
          "output_type": "stream",
          "text": [
            "Solucion BFS: ['S', 'S', 'S', 'S', 'S', 'E', 'E', 'E', 'E', 'E', 'E', 'E', 'S', 'S', 'S', 'S', 'E', 'E', 'E', 'E', 'E', 'S', 'S', 'S', 'E', 'E', 'E', 'E', 'E', 'E', 'S', 'E']. Nodos visitados=339. Costo Solucion = 69\n",
            " --------------------------- \n",
            "|#################oooooooooo|\n",
            "|#################ooooooooo#|\n",
            "|ooooSooooooooooooooooooooo#|\n",
            "|ooooxooooooooooooooooooooo#|\n",
            "|ooooxoooooooo#oooooooooooo#|\n",
            "|ooooxooooooo###ooooooooooo#|\n",
            "|ooooxooooooo##ooo###oooooo#|\n",
            "|ooooxxxxxxxxooooo##ooooo###|\n",
            "|ooooooooo##xoooooooooooo###|\n",
            "|oooooooo###xoooooooooooo###|\n",
            "|##########oxoooooooooooo###|\n",
            "|oooooooooooxxxxxxoooo##oooo|\n",
            "|o###o#o#o###o###xoooo##ooo |\n",
            "|o# #o#o#o#ooo# #xoooooooo  |\n",
            "|o###o#o#o#ooo###xxxxxxxo=  |\n",
            "|o#ooo#o#o#ooo#oooooo##xE   |\n",
            "|o#ooo###o###o#oooooo##o    |\n",
            "|~ooooooooooooooooooooo~~~~~|\n",
            " --------------------------- \n",
            "x - celdas en la solucion\n",
            "o - celdas visitadas durante la busqueda\n",
            "-------------------------------\n"
          ]
        }
      ],
      "source": [
        "nsol, visited_nodes = graph_search(p, FIFOQueue())\n",
        "print('Solucion BFS: {}. Nodos visitados={}. Costo Solucion = {}'.format(nsol.solution(), len(visited_nodes),nsol.path_cost))\n",
        "displayResults(maze, visited_nodes, nsol.path())"
      ]
    },
    {
      "cell_type": "markdown",
      "metadata": {
        "id": "rf4SUSu1q4iE"
      },
      "source": [
        "### Búsqueda en profundidad (DFS)"
      ]
    },
    {
      "cell_type": "code",
      "execution_count": null,
      "metadata": {
        "id": "4lBotx47q4iF",
        "outputId": "bebf5042-7506-4945-ebed-a6befae469b8"
      },
      "outputs": [
        {
          "name": "stdout",
          "output_type": "stream",
          "text": [
            "Solucion DFS: ['E', 'E', 'E', 'E', 'E', 'E', 'E', 'E', 'E', 'E', 'E', 'E', 'E', 'E', 'E', 'E', 'E', 'E', 'E', 'E', 'E', 'S', 'S', 'W', 'W', 'W', 'W', 'W', 'W', 'W', 'W', 'W', 'W', 'S', 'S', 'E', 'S', 'S', 'E', 'E', 'E', 'E', 'E', 'E', 'E', 'S', 'S', 'W', 'W', 'W', 'W', 'W', 'W', 'W', 'W', 'W', 'W', 'W', 'W', 'W', 'S', 'W', 'W', 'W', 'W', 'W', 'W', 'W', 'W', 'W', 'W', 'S', 'S', 'S', 'S', 'S', 'S', 'E', 'E', 'E', 'E', 'E', 'E', 'E', 'E', 'E', 'E', 'E', 'E', 'E', 'E', 'E', 'E', 'E', 'E', 'E', 'E', 'E', 'E', 'E', 'E', 'E', 'E', 'N', 'N', 'W', 'W', 'W']. Nodos visitados=110. Costo Solucion = 367\n",
            " --------------------------- \n",
            "|#################~~~~~~~~~~|\n",
            "|#################    =~   #|\n",
            "|~~  Sxxxxxxxxxxxxxxxxxxxxx#|\n",
            "| ~~~~~ ~~~  ====  ==~=~~ x#|\n",
            "| ~   ===~~   #oxxxxxxxxxxx#|\n",
            "|~~   ===~~  ###x   =~     #|\n",
            "|~~~  ===~~  ## xx###~     #|\n",
            "|~=~    ~~       x## ~   ###|\n",
            "| =~   ~  ##  == xxxxxxxx###|\n",
            "|~~    ==###  == =~     x###|\n",
            "|##########xxxxxxxxxxxxxx###|\n",
            "|xxxxxxxxxxx      ~~~~##~   |\n",
            "|x### # # ### ### ====##=   |\n",
            "|x# # # # #   # #   ==~~~=  |\n",
            "|x### # # #   ###   =~~~==  |\n",
            "|x#   # # #   #     =##~Exxx|\n",
            "|x#   ### ### #     =##    x|\n",
            "|xxxxxxxxxxxxxxxxxxxxxxxxxxx|\n",
            " --------------------------- \n",
            "x - celdas en la solucion\n",
            "o - celdas visitadas durante la busqueda\n",
            "-------------------------------\n"
          ]
        }
      ],
      "source": [
        "nsol, visited_nodes = graph_search(p, [])\n",
        "print('Solucion DFS: {}. Nodos visitados={}. Costo Solucion = {}'.format(nsol.solution(), len(visited_nodes),nsol.path_cost))\n",
        "displayResults(maze, visited_nodes, nsol.path())"
      ]
    },
    {
      "cell_type": "markdown",
      "metadata": {
        "id": "56MmR9hcq4iL"
      },
      "source": [
        "### Búsqueda A* con heurística nula (UCS)"
      ]
    },
    {
      "cell_type": "code",
      "execution_count": null,
      "metadata": {
        "id": "-39iMmdYq4iM",
        "outputId": "0fd1eddf-982c-4fe3-887e-a1454fc3ea19"
      },
      "outputs": [
        {
          "name": "stdout",
          "output_type": "stream",
          "text": [
            "Solucion A* y heuristica nula (UCS): ['S', 'S', 'S', 'S', 'S', 'E', 'E', 'E', 'E', 'E', 'E', 'E', 'E', 'E', 'E', 'E', 'S', 'S', 'S', 'E', 'E', 'E', 'E', 'E', 'E', 'E', 'E', 'S', 'E', 'E', 'S', 'S', 'S', 'S', 'W', 'W']. Nodos visitados=322. Costo Solucion = 61\n",
            " --------------------------- \n",
            "|#################ooooooooo~|\n",
            "|#################ooooooooo#|\n",
            "|ooooSooooooooooooooooooooo#|\n",
            "|ooooxooooooooooooooooooooo#|\n",
            "|ooooxoooooooo#oooooooooooo#|\n",
            "|ooooxooooooo###ooooooooooo#|\n",
            "|ooooxooooooo##ooo###oooooo#|\n",
            "|ooooxxxxxxxxxxxxo##ooooo###|\n",
            "|ooooooooo##ooooxoooooooo###|\n",
            "|oooooooo###ooooxoooooooo###|\n",
            "|##########oooooxxxxxxxxx###|\n",
            "|~~~~ooooooooooooooooo##xxxo|\n",
            "| ###o#o#o###o###ooooo##ooxo|\n",
            "| # #o#o#o#ooo# #ooooooo~oxo|\n",
            "| ###o#o#o#ooo###oooooo~=oxo|\n",
            "| #   #o#o#ooo#oooooo##~Exxo|\n",
            "| #   ###o###o#oooooo##   o |\n",
            "|~~~~~~ooooooooooooooo~~~~~~|\n",
            " --------------------------- \n",
            "x - celdas en la solucion\n",
            "o - celdas visitadas durante la busqueda\n",
            "-------------------------------\n"
          ]
        }
      ],
      "source": [
        "nsol, visited_nodes = astar_search(p, nullheuristic)\n",
        "print('Solucion A* y heuristica nula (UCS): {}. Nodos visitados={}. Costo Solucion = {}'.format(nsol.solution(), len(visited_nodes),nsol.path_cost))\n",
        "displayResults(maze, visited_nodes, nsol.path())"
      ]
    },
    {
      "cell_type": "markdown",
      "metadata": {
        "id": "3tECNkm7q4iP"
      },
      "source": [
        "### Búsqueda A* con heurística euclidean_dist (Completar el código para mostrar los resultados de la búsqueda con heurística euclidean_dist)"
      ]
    },
    {
      "cell_type": "code",
      "execution_count": null,
      "metadata": {
        "id": "m9kHI8cZq4iQ",
        "scrolled": false,
        "outputId": "b8487454-ca6c-4455-c722-f15bdaa2690f"
      },
      "outputs": [
        {
          "name": "stdout",
          "output_type": "stream",
          "text": [
            "Solucion A* y euclidean_dist: ['S', 'S', 'S', 'S', 'S', 'E', 'E', 'E', 'E', 'E', 'E', 'E', 'E', 'E', 'E', 'E', 'S', 'S', 'S', 'E', 'E', 'E', 'E', 'E', 'E', 'E', 'E', 'S', 'E', 'S', 'E', 'S', 'S', 'S', 'W', 'W']. Nodos visitados=276. Costo Solucion = 61\n",
            " --------------------------- \n",
            "|#################oo~~~~~~~~|\n",
            "|#################ooooo~   #|\n",
            "|ooooSooooooooooooooooo~   #|\n",
            "|ooooxooooooooooooooo~=~~  #|\n",
            "|ooooxoooooooo#oooooooo~~o #|\n",
            "|ooooxooooooo###ooooooooooo#|\n",
            "|ooooxooooooo##ooo###oooooo#|\n",
            "|ooooxxxxxxxxxxxxo##ooooo###|\n",
            "|ooooooooo##ooooxoooooooo###|\n",
            "|oooooooo###ooooxoooooooo###|\n",
            "|##########oooooxxxxxxxxx###|\n",
            "|~~~~~~~oooooooooooooo##xxoo|\n",
            "| ### # #o###o###ooooo##oxx |\n",
            "| # # # #o#ooo# #ooooooo~ox |\n",
            "| ### # #o#ooo###oooooo~==x |\n",
            "| #   # #o#ooo#oooooo##~Exx |\n",
            "| #   ###o###o#oooooo##     |\n",
            "|~~~~~~~~o~~~oooooooo~~~~~~~|\n",
            " --------------------------- \n",
            "x - celdas en la solucion\n",
            "o - celdas visitadas durante la busqueda\n",
            "-------------------------------\n"
          ]
        }
      ],
      "source": [
        "## COMPLETAR\n",
        "nsol, visited_nodes = astar_search(p, euclidean_dist)\n",
        "print('Solucion A* y euclidean_dist: {}. Nodos visitados={}. Costo Solucion = {}'.format(nsol.solution(), len(visited_nodes),nsol.path_cost))\n",
        "displayResults(maze, visited_nodes, nsol.path())"
      ]
    },
    {
      "cell_type": "markdown",
      "metadata": {
        "id": "F9vuODAZq4iT"
      },
      "source": [
        "### Búsqueda A* con heurística manhattan_dist (Completar el código para mostrar los resultados de la búsqueda con heurística manhattan_dist)"
      ]
    },
    {
      "cell_type": "code",
      "execution_count": null,
      "metadata": {
        "id": "IPMjy-Avq4iT",
        "outputId": "84075b20-1ccc-4b5b-83b8-7304cbc048e0"
      },
      "outputs": [
        {
          "name": "stdout",
          "output_type": "stream",
          "text": [
            "Solucion A* y manhattan_dist: ['S', 'S', 'S', 'S', 'S', 'E', 'E', 'E', 'E', 'E', 'E', 'E', 'E', 'E', 'E', 'E', 'S', 'S', 'S', 'E', 'E', 'E', 'E', 'E', 'E', 'E', 'E', 'S', 'E', 'S', 'E', 'S', 'S', 'S', 'W', 'W']. Nodos visitados=268. Costo Solucion = 61\n",
            " --------------------------- \n",
            "|#################~~~~~~~~~~|\n",
            "|#################ooooo~   #|\n",
            "|ooooSoooooooooooooo~o=~   #|\n",
            "|ooooxooooooooooooooo~=~~  #|\n",
            "|ooooxoooooooo#oooooooo~~o #|\n",
            "|ooooxooooooo###ooooooooooo#|\n",
            "|ooooxooooooo##ooo###~ooooo#|\n",
            "|ooooxxxxxxxxxxxxo##ooooo###|\n",
            "|ooooooooo##ooooxoooooooo###|\n",
            "|oooooooo###ooooxoooooooo###|\n",
            "|##########oooooxxxxxxxxx###|\n",
            "|~~~~~~~oooooooooooooo##xxo |\n",
            "| ### # #o###o###ooooo##oxx |\n",
            "| # # # #o#ooo# #ooooooo~ox |\n",
            "| ### # #o#ooo###oooooo~==x |\n",
            "| #   # #o#ooo#oooooo##~Exx |\n",
            "| #   ###o###o#oooooo##     |\n",
            "|~~~~~~~~~~~~o~oooooo~~~~~~~|\n",
            " --------------------------- \n",
            "x - celdas en la solucion\n",
            "o - celdas visitadas durante la busqueda\n",
            "-------------------------------\n"
          ]
        }
      ],
      "source": [
        "## COMPLETAR\n",
        "nsol, visited_nodes = astar_search(p, manhattan_dist)\n",
        "print('Solucion A* y manhattan_dist: {}. Nodos visitados={}. Costo Solucion = {}'.format(nsol.solution(), len(visited_nodes),nsol.path_cost))\n",
        "displayResults(maze, visited_nodes, nsol.path())"
      ]
    },
    {
      "cell_type": "markdown",
      "metadata": {
        "id": "MqhlDRHtRAcX"
      },
      "source": [
        "### Búsqueda A* con heurística chebyshev_dist (Completar el código para mostrar los resultados de la búsqueda con heurística chebyshev_dist)"
      ]
    },
    {
      "cell_type": "code",
      "execution_count": null,
      "metadata": {
        "id": "aQ7Tc5PbRAcX",
        "outputId": "d34dc7ff-1592-438f-abce-a8a102065040"
      },
      "outputs": [
        {
          "name": "stdout",
          "output_type": "stream",
          "text": [
            "Solucion A* y chebyshev_dist: ['S', 'S', 'S', 'S', 'S', 'E', 'E', 'E', 'E', 'E', 'E', 'E', 'E', 'E', 'E', 'E', 'S', 'S', 'S', 'E', 'E', 'E', 'E', 'E', 'E', 'E', 'E', 'S', 'E', 'S', 'E', 'S', 'S', 'S', 'W', 'W']. Nodos visitados=281. Costo Solucion = 61\n",
            " --------------------------- \n",
            "|#################ooo~~~~~~~|\n",
            "|#################ooooo~   #|\n",
            "|ooooSooooooooooooooooo~   #|\n",
            "|ooooxoooooooooooooooo=~~  #|\n",
            "|ooooxoooooooo#oooooooo~~oo#|\n",
            "|ooooxooooooo###ooooooooooo#|\n",
            "|ooooxooooooo##ooo###oooooo#|\n",
            "|ooooxxxxxxxxxxxxo##ooooo###|\n",
            "|ooooooooo##ooooxoooooooo###|\n",
            "|oooooooo###ooooxoooooooo###|\n",
            "|##########oooooxxxxxxxxx###|\n",
            "|~~~~~~~oooooooooooooo##xxoo|\n",
            "| ### # #o###o###ooooo##oxxo|\n",
            "| # # # #o#ooo# #ooooooo~oxo|\n",
            "| ### # #o#ooo###oooooo~==x |\n",
            "| #   # #o#ooo#oooooo##~Exx |\n",
            "| #   ###o###o#oooooo##     |\n",
            "|~~~~~~~~o~~~oooooooo~~~~~~~|\n",
            " --------------------------- \n",
            "x - celdas en la solucion\n",
            "o - celdas visitadas durante la busqueda\n",
            "-------------------------------\n"
          ]
        }
      ],
      "source": [
        "## COMPLETAR\n",
        "nsol, visited_nodes = astar_search(p, chebyshev_dist)\n",
        "print('Solucion A* y chebyshev_dist: {}. Nodos visitados={}. Costo Solucion = {}'.format(nsol.solution(), len(visited_nodes),nsol.path_cost))\n",
        "displayResults(maze, visited_nodes, nsol.path())"
      ]
    },
    {
      "cell_type": "markdown",
      "metadata": {
        "id": "W_6JEyrSRAcX"
      },
      "source": [
        "### Búsqueda A* con heurística lab03_dist (Completar el código para mostrar los resultados de la búsqueda con heurística lab03_dist)"
      ]
    },
    {
      "cell_type": "code",
      "execution_count": null,
      "metadata": {
        "id": "9bL6gNu6RAcX",
        "outputId": "001664d5-4bc4-40f9-84d8-8eb8f0e89aaa"
      },
      "outputs": [
        {
          "name": "stdout",
          "output_type": "stream",
          "text": [
            "Solucion A* y lab03_dist: ['S', 'S', 'S', 'S', 'S', 'E', 'E', 'E', 'E', 'E', 'E', 'E', 'E', 'E', 'E', 'E', 'S', 'S', 'S', 'E', 'E', 'E', 'E', 'E', 'E', 'E', 'E', 'S', 'E', 'S', 'E', 'S', 'S', 'S', 'W', 'W']. Nodos visitados=268. Costo Solucion = 61\n",
            " --------------------------- \n",
            "|#################~~~~~~~~~~|\n",
            "|#################ooooo~   #|\n",
            "|ooooSoooooooooooooo~o=~   #|\n",
            "|ooooxooooooooooooooo~=~~  #|\n",
            "|ooooxoooooooo#oooooooo~~o #|\n",
            "|ooooxooooooo###ooooooooooo#|\n",
            "|ooooxooooooo##ooo###~ooooo#|\n",
            "|ooooxxxxxxxxxxxxo##ooooo###|\n",
            "|ooooooooo##ooooxoooooooo###|\n",
            "|oooooooo###ooooxoooooooo###|\n",
            "|##########oooooxxxxxxxxx###|\n",
            "|~~~~~~~oooooooooooooo##xxo |\n",
            "| ### # #o###o###ooooo##oxx |\n",
            "| # # # #o#ooo# #ooooooo~ox |\n",
            "| ### # #o#ooo###oooooo~==x |\n",
            "| #   # #o#ooo#oooooo##~Exx |\n",
            "| #   ###o###o#oooooo##     |\n",
            "|~~~~~~~~~~~~o~oooooo~~~~~~~|\n",
            " --------------------------- \n",
            "x - celdas en la solucion\n",
            "o - celdas visitadas durante la busqueda\n",
            "-------------------------------\n"
          ]
        }
      ],
      "source": [
        "## COMPLETAR\n",
        "nsol, visited_nodes = astar_search(p, lab03_dist)\n",
        "print('Solucion A* y lab03_dist: {}. Nodos visitados={}. Costo Solucion = {}'.format(nsol.solution(), len(visited_nodes),nsol.path_cost))\n",
        "displayResults(maze, visited_nodes, nsol.path())"
      ]
    },
    {
      "cell_type": "markdown",
      "metadata": {
        "id": "f8m8GNb3q4iW"
      },
      "source": [
        "## Preguntas\n",
        "\n",
        "<b>1) Completar el código faltante (Clases y Heurísticas). (3 ptos)<br>   \n",
        "<b>2) En cuanto a los resultados obtenidos, ¿los algoritmos BFS o DFS encuentran soluciones óptimas?.<br> &nbsp; ¿Qué requisito necesita el problema para que alguno de estos algoritmos encuentre soluciones óptimas? (3 ptos) </b><br>  \n",
        "<b>3) En cuanto a las soluciones encontradas por A*, ¿ellas serán siempre óptimas?.<br> &nbsp; ¿Qué necesita la heurística para garantizar soluciones óptimas?.<br> &nbsp; ¿Las heurísticas planteadas para el laboratorio cumplen con estos requisitos?. Explique. (4 ptos)</b><br>\n",
        "\n",
        "<b>4) En cuanto al costo temporal, ¿qué método visita menos nodos?.<br> &nbsp; ¿Cómo podría esto beneficiar a casos reales en los que se emplee algoritmos A*? (3 ptos) </b><br>  \n",
        "<b>5) ¿Existe relación de dominancia entre algún par de heurísticas implementadas (No considerar heurística nula)?. &nbsp; <br>¿Guarda alguna relación la solución de menor costo temporal y la heurística dominante? Explique. (3 ptos) </b><br>  \n",
        "<b>6) ¿Explique cómo expande nodos cada método (UCS y las 4 heurísticas)?.<br>¿Coinciden las propiedades de una heurística con las zonas exploradas por cada una en las pruebas? Explique. (4 ptos)</b><br>  \n",
        "\n",
        ""
      ]
    },
    {
      "cell_type": "markdown",
      "metadata": {
        "id": "mLkaY_rIRAcY"
      },
      "source": [
        "<b>Pregunta 2<b>\n",
        "\n",
        "BFS es óptimo solo si el costo de camino es constante. DFS no es óptimo."
      ]
    },
    {
      "cell_type": "markdown",
      "metadata": {
        "id": "-BLr_5b-RAcY"
      },
      "source": [
        "<b>Pregunta 3<b>\n",
        "\n",
        "A* será óptima si la heurística es consistente. Todas las heurísticas del laboratorio son consistentes, ninguna sobreestima el costo real, además lab03_dist es el máximo de 3 heurísticas consistentes, por lo tanto será consistente."
      ]
    },
    {
      "cell_type": "markdown",
      "metadata": {
        "id": "RUGwNHZyRAcY"
      },
      "source": [
        "<b>Pregunta 4<b>\n",
        "\n",
        "manhattan y lab03_dist visitan menos nodos. Es importante la heurística que se utilice ya que el costo temporal se reduce considerablemente. Se ve reflejado en el uso de memoria de menor capacidad, se ahorra en memoria. El procesamiento es más rápido al explorar menos nodos."
      ]
    },
    {
      "cell_type": "markdown",
      "metadata": {
        "id": "h2GHHATbRAcY"
      },
      "source": [
        "<b>Pregunta 5<b>\n",
        "    \n",
        "Es importante que el alumno explique en su respuesta que la heurística lab03 es igual a la Manhattan, pues el máximo de un grupo de heurísticas donde una domina a las demas devolverá esta heurística dominante.\n",
        "    \n",
        "Si existen pares de dominancia.\n",
        "\n",
        "lab03 >= Mdist >= Edist >= Chdist (lab03 == Mdist >= Edist >= Chdist)\n",
        "\n",
        "lab03 es la de mayor dominancia y coincidentemente es la que expande menos nodos. Se cumple que la heurística consistente más exigente es la de menor costo temporal.\n"
      ]
    },
    {
      "cell_type": "markdown",
      "metadata": {
        "id": "jrEZpeOzRAcY"
      },
      "source": [
        "<b>Pregunta 6<b>\n",
        "- UCS: Explora casi todo el laberinto, en todas las direcciones hasta encontrar la solución.\n",
        "- Euclidean: Explora la zona central, un poco a la izquierda y derecha, con una parte considerable de la zona superior. La zona se reduce comparado con UCS.\n",
        "- Manhattan: Explora la zona central, reduce la zona explorada en la parte superior y en los costados. Se acerca a la solución con una menor cantidad de nodos explorados a su alrededor.\n",
        "- Chebyshev: Explora gran parte superior como Euclidean. Mayor cantidad que Manhattan.\n",
        "- lab03_dist: Explora como Manhattan, solo parte central y reducido en parte superior y costados.\n",
        "Coincide que mientras más exigente es la heurística consistente, menor es la región explorada alrededor de la solución óptima."
      ]
    }
  ],
  "metadata": {
    "colab": {
      "provenance": [],
      "include_colab_link": true
    },
    "kernelspec": {
      "display_name": "Python 3",
      "language": "python",
      "name": "python3"
    },
    "language_info": {
      "codemirror_mode": {
        "name": "ipython",
        "version": 3
      },
      "file_extension": ".py",
      "mimetype": "text/x-python",
      "name": "python",
      "nbconvert_exporter": "python",
      "pygments_lexer": "ipython3",
      "version": "3.8.3"
    }
  },
  "nbformat": 4,
  "nbformat_minor": 0
}